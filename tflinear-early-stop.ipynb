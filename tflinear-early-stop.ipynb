{
 "cells": [
  {
   "cell_type": "code",
   "execution_count": 15,
   "metadata": {},
   "outputs": [],
   "source": [
    "import matplotlib.pyplot as plt\n",
    "\n",
    "import tensorflow as tf\n",
    "from tensorflow.keras.models import Sequential\n",
    "from tensorflow.keras.layers import Dense, Dropout, BatchNormalization\n",
    "import numpy as np\n",
    "\n",
    "from numpy import genfromtxt\n",
    "from sklearn.datasets import load_boston\n",
    "\n",
    "\n",
    "boston = load_boston()\n",
    "features = np.array(boston.data)\n",
    "labels = np.array(boston.target)\n",
    "\n",
    "\n",
    "\n",
    "\n",
    "\n",
    "\n",
    "\n"
   ]
  },
  {
   "cell_type": "code",
   "execution_count": 16,
   "metadata": {},
   "outputs": [
    {
     "data": {
      "text/plain": [
       "array([[6.3200e-03, 1.8000e+01, 2.3100e+00, ..., 1.5300e+01, 3.9690e+02,\n",
       "        4.9800e+00],\n",
       "       [2.7310e-02, 0.0000e+00, 7.0700e+00, ..., 1.7800e+01, 3.9690e+02,\n",
       "        9.1400e+00],\n",
       "       [2.7290e-02, 0.0000e+00, 7.0700e+00, ..., 1.7800e+01, 3.9283e+02,\n",
       "        4.0300e+00],\n",
       "       ...,\n",
       "       [6.0760e-02, 0.0000e+00, 1.1930e+01, ..., 2.1000e+01, 3.9690e+02,\n",
       "        5.6400e+00],\n",
       "       [1.0959e-01, 0.0000e+00, 1.1930e+01, ..., 2.1000e+01, 3.9345e+02,\n",
       "        6.4800e+00],\n",
       "       [4.7410e-02, 0.0000e+00, 1.1930e+01, ..., 2.1000e+01, 3.9690e+02,\n",
       "        7.8800e+00]])"
      ]
     },
     "execution_count": 16,
     "metadata": {},
     "output_type": "execute_result"
    }
   ],
   "source": [
    "features"
   ]
  },
  {
   "cell_type": "code",
   "execution_count": 17,
   "metadata": {},
   "outputs": [
    {
     "data": {
      "text/plain": [
       "array([24. , 21.6, 34.7, 33.4, 36.2, 28.7, 22.9, 27.1, 16.5, 18.9, 15. ,\n",
       "       18.9, 21.7, 20.4, 18.2, 19.9, 23.1, 17.5, 20.2, 18.2, 13.6, 19.6,\n",
       "       15.2, 14.5, 15.6, 13.9, 16.6, 14.8, 18.4, 21. , 12.7, 14.5, 13.2,\n",
       "       13.1, 13.5, 18.9, 20. , 21. , 24.7, 30.8, 34.9, 26.6, 25.3, 24.7,\n",
       "       21.2, 19.3, 20. , 16.6, 14.4, 19.4, 19.7, 20.5, 25. , 23.4, 18.9,\n",
       "       35.4, 24.7, 31.6, 23.3, 19.6, 18.7, 16. , 22.2, 25. , 33. , 23.5,\n",
       "       19.4, 22. , 17.4, 20.9, 24.2, 21.7, 22.8, 23.4, 24.1, 21.4, 20. ,\n",
       "       20.8, 21.2, 20.3, 28. , 23.9, 24.8, 22.9, 23.9, 26.6, 22.5, 22.2,\n",
       "       23.6, 28.7, 22.6, 22. , 22.9, 25. , 20.6, 28.4, 21.4, 38.7, 43.8,\n",
       "       33.2, 27.5, 26.5, 18.6, 19.3, 20.1, 19.5, 19.5, 20.4, 19.8, 19.4,\n",
       "       21.7, 22.8, 18.8, 18.7, 18.5, 18.3, 21.2, 19.2, 20.4, 19.3, 22. ,\n",
       "       20.3, 20.5, 17.3, 18.8, 21.4, 15.7, 16.2, 18. , 14.3, 19.2, 19.6,\n",
       "       23. , 18.4, 15.6, 18.1, 17.4, 17.1, 13.3, 17.8, 14. , 14.4, 13.4,\n",
       "       15.6, 11.8, 13.8, 15.6, 14.6, 17.8, 15.4, 21.5, 19.6, 15.3, 19.4,\n",
       "       17. , 15.6, 13.1, 41.3, 24.3, 23.3, 27. , 50. , 50. , 50. , 22.7,\n",
       "       25. , 50. , 23.8, 23.8, 22.3, 17.4, 19.1, 23.1, 23.6, 22.6, 29.4,\n",
       "       23.2, 24.6, 29.9, 37.2, 39.8, 36.2, 37.9, 32.5, 26.4, 29.6, 50. ,\n",
       "       32. , 29.8, 34.9, 37. , 30.5, 36.4, 31.1, 29.1, 50. , 33.3, 30.3,\n",
       "       34.6, 34.9, 32.9, 24.1, 42.3, 48.5, 50. , 22.6, 24.4, 22.5, 24.4,\n",
       "       20. , 21.7, 19.3, 22.4, 28.1, 23.7, 25. , 23.3, 28.7, 21.5, 23. ,\n",
       "       26.7, 21.7, 27.5, 30.1, 44.8, 50. , 37.6, 31.6, 46.7, 31.5, 24.3,\n",
       "       31.7, 41.7, 48.3, 29. , 24. , 25.1, 31.5, 23.7, 23.3, 22. , 20.1,\n",
       "       22.2, 23.7, 17.6, 18.5, 24.3, 20.5, 24.5, 26.2, 24.4, 24.8, 29.6,\n",
       "       42.8, 21.9, 20.9, 44. , 50. , 36. , 30.1, 33.8, 43.1, 48.8, 31. ,\n",
       "       36.5, 22.8, 30.7, 50. , 43.5, 20.7, 21.1, 25.2, 24.4, 35.2, 32.4,\n",
       "       32. , 33.2, 33.1, 29.1, 35.1, 45.4, 35.4, 46. , 50. , 32.2, 22. ,\n",
       "       20.1, 23.2, 22.3, 24.8, 28.5, 37.3, 27.9, 23.9, 21.7, 28.6, 27.1,\n",
       "       20.3, 22.5, 29. , 24.8, 22. , 26.4, 33.1, 36.1, 28.4, 33.4, 28.2,\n",
       "       22.8, 20.3, 16.1, 22.1, 19.4, 21.6, 23.8, 16.2, 17.8, 19.8, 23.1,\n",
       "       21. , 23.8, 23.1, 20.4, 18.5, 25. , 24.6, 23. , 22.2, 19.3, 22.6,\n",
       "       19.8, 17.1, 19.4, 22.2, 20.7, 21.1, 19.5, 18.5, 20.6, 19. , 18.7,\n",
       "       32.7, 16.5, 23.9, 31.2, 17.5, 17.2, 23.1, 24.5, 26.6, 22.9, 24.1,\n",
       "       18.6, 30.1, 18.2, 20.6, 17.8, 21.7, 22.7, 22.6, 25. , 19.9, 20.8,\n",
       "       16.8, 21.9, 27.5, 21.9, 23.1, 50. , 50. , 50. , 50. , 50. , 13.8,\n",
       "       13.8, 15. , 13.9, 13.3, 13.1, 10.2, 10.4, 10.9, 11.3, 12.3,  8.8,\n",
       "        7.2, 10.5,  7.4, 10.2, 11.5, 15.1, 23.2,  9.7, 13.8, 12.7, 13.1,\n",
       "       12.5,  8.5,  5. ,  6.3,  5.6,  7.2, 12.1,  8.3,  8.5,  5. , 11.9,\n",
       "       27.9, 17.2, 27.5, 15. , 17.2, 17.9, 16.3,  7. ,  7.2,  7.5, 10.4,\n",
       "        8.8,  8.4, 16.7, 14.2, 20.8, 13.4, 11.7,  8.3, 10.2, 10.9, 11. ,\n",
       "        9.5, 14.5, 14.1, 16.1, 14.3, 11.7, 13.4,  9.6,  8.7,  8.4, 12.8,\n",
       "       10.5, 17.1, 18.4, 15.4, 10.8, 11.8, 14.9, 12.6, 14.1, 13. , 13.4,\n",
       "       15.2, 16.1, 17.8, 14.9, 14.1, 12.7, 13.5, 14.9, 20. , 16.4, 17.7,\n",
       "       19.5, 20.2, 21.4, 19.9, 19. , 19.1, 19.1, 20.1, 19.9, 19.6, 23.2,\n",
       "       29.8, 13.8, 13.3, 16.7, 12. , 14.6, 21.4, 23. , 23.7, 25. , 21.8,\n",
       "       20.6, 21.2, 19.1, 20.6, 15.2,  7. ,  8.1, 13.6, 20.1, 21.8, 24.5,\n",
       "       23.1, 19.7, 18.3, 21.2, 17.5, 16.8, 22.4, 20.6, 23.9, 22. , 11.9])"
      ]
     },
     "execution_count": 17,
     "metadata": {},
     "output_type": "execute_result"
    }
   ],
   "source": [
    "labels"
   ]
  },
  {
   "cell_type": "code",
   "execution_count": 18,
   "metadata": {},
   "outputs": [],
   "source": [
    "#split test train  data from train data\n",
    "from sklearn.model_selection import train_test_split\n",
    "xtrain,xtest,ytrain,ytest=train_test_split(features,labels,random_state=5,test_size=.3)"
   ]
  },
  {
   "cell_type": "code",
   "execution_count": 19,
   "metadata": {},
   "outputs": [],
   "source": [
    "ytrain = np.asarray(ytrain)\n",
    "ytest = np.asarray(ytest)\n",
    "xtrain=np.asarray(xtrain)\n",
    "xtest=np.asarray(xtest)"
   ]
  },
  {
   "cell_type": "code",
   "execution_count": 21,
   "metadata": {},
   "outputs": [],
   "source": [
    "model=Sequential()\n",
    "model.add(Dense(32,activation='relu',input_dim=xtrain.shape[1]))\n",
    "\n",
    "model.add(Dense(16,activation='relu'))\n",
    "model.add(Dense(8,activation='relu'))\n",
    "\n",
    "\n",
    "\n",
    "model.add(Dense(1))\n",
    "\n"
   ]
  },
  {
   "cell_type": "code",
   "execution_count": 22,
   "metadata": {},
   "outputs": [],
   "source": [
    "model.compile(loss='mean_squared_error', optimizer='adam')"
   ]
  },
  {
   "cell_type": "code",
   "execution_count": 23,
   "metadata": {},
   "outputs": [
    {
     "name": "stdout",
     "output_type": "stream",
     "text": [
      "Model: \"sequential_2\"\n",
      "_________________________________________________________________\n",
      "Layer (type)                 Output Shape              Param #   \n",
      "=================================================================\n",
      "dense_8 (Dense)              (None, 32)                448       \n",
      "_________________________________________________________________\n",
      "dense_9 (Dense)              (None, 16)                528       \n",
      "_________________________________________________________________\n",
      "dense_10 (Dense)             (None, 8)                 136       \n",
      "_________________________________________________________________\n",
      "dense_11 (Dense)             (None, 1)                 9         \n",
      "=================================================================\n",
      "Total params: 1,121\n",
      "Trainable params: 1,121\n",
      "Non-trainable params: 0\n",
      "_________________________________________________________________\n"
     ]
    }
   ],
   "source": [
    "model.summary()"
   ]
  },
  {
   "cell_type": "code",
   "execution_count": 24,
   "metadata": {},
   "outputs": [
    {
     "name": "stdout",
     "output_type": "stream",
     "text": [
      "Train on 354 samples, validate on 152 samples\n",
      "Epoch 1/100\n",
      "354/354 [==============================] - 1s 3ms/sample - loss: 1526.1900 - val_loss: 492.9589\n",
      "Epoch 2/100\n",
      "354/354 [==============================] - 0s 158us/sample - loss: 392.4015 - val_loss: 326.5651\n",
      "Epoch 3/100\n",
      "354/354 [==============================] - 0s 215us/sample - loss: 235.7992 - val_loss: 161.3720\n",
      "Epoch 4/100\n",
      "354/354 [==============================] - 0s 155us/sample - loss: 108.7762 - val_loss: 96.0552\n",
      "Epoch 5/100\n",
      "354/354 [==============================] - 0s 158us/sample - loss: 81.1962 - val_loss: 93.8700\n",
      "Epoch 6/100\n",
      "354/354 [==============================] - 0s 161us/sample - loss: 75.4583 - val_loss: 87.7750\n",
      "Epoch 7/100\n",
      "354/354 [==============================] - 0s 136us/sample - loss: 72.1755 - val_loss: 91.4159\n",
      "Epoch 8/100\n",
      "354/354 [==============================] - 0s 175us/sample - loss: 70.1899 - val_loss: 87.3803\n",
      "Epoch 9/100\n",
      "354/354 [==============================] - 0s 144us/sample - loss: 68.1241 - val_loss: 87.1198\n",
      "Epoch 10/100\n",
      "354/354 [==============================] - 0s 167us/sample - loss: 66.4491 - val_loss: 85.3319\n",
      "Epoch 11/100\n",
      "354/354 [==============================] - 0s 161us/sample - loss: 66.9092 - val_loss: 84.8414\n",
      "Epoch 12/100\n",
      "354/354 [==============================] - 0s 147us/sample - loss: 64.5294 - val_loss: 85.0212\n",
      "Epoch 13/100\n",
      "354/354 [==============================] - 0s 158us/sample - loss: 64.3800 - val_loss: 84.7209\n",
      "Epoch 14/100\n",
      "354/354 [==============================] - 0s 158us/sample - loss: 63.6371 - val_loss: 83.8661\n",
      "Epoch 15/100\n",
      "354/354 [==============================] - 0s 175us/sample - loss: 63.1002 - val_loss: 83.7497\n",
      "Epoch 16/100\n",
      "354/354 [==============================] - 0s 170us/sample - loss: 63.0413 - val_loss: 83.6977\n",
      "Epoch 17/100\n",
      "354/354 [==============================] - 0s 158us/sample - loss: 62.4358 - val_loss: 82.5060\n",
      "Epoch 18/100\n",
      "354/354 [==============================] - 0s 150us/sample - loss: 61.5299 - val_loss: 82.5162\n",
      "Epoch 19/100\n",
      "354/354 [==============================] - 0s 164us/sample - loss: 61.5869 - val_loss: 81.7985\n",
      "Epoch 20/100\n",
      "354/354 [==============================] - 0s 150us/sample - loss: 61.2475 - val_loss: 83.3449\n",
      "Epoch 21/100\n",
      "354/354 [==============================] - 0s 138us/sample - loss: 60.7457 - val_loss: 81.7311\n",
      "Epoch 22/100\n",
      "354/354 [==============================] - 0s 155us/sample - loss: 60.2642 - val_loss: 81.3675\n",
      "Epoch 23/100\n",
      "354/354 [==============================] - 0s 141us/sample - loss: 60.2202 - val_loss: 79.6201\n",
      "Epoch 24/100\n",
      "354/354 [==============================] - 0s 144us/sample - loss: 59.5566 - val_loss: 78.9824\n",
      "Epoch 25/100\n",
      "354/354 [==============================] - 0s 147us/sample - loss: 59.0582 - val_loss: 79.2784\n",
      "Epoch 26/100\n",
      "354/354 [==============================] - 0s 150us/sample - loss: 59.2969 - val_loss: 79.3315\n",
      "Epoch 27/100\n",
      "354/354 [==============================] - 0s 141us/sample - loss: 58.2182 - val_loss: 78.1888\n",
      "Epoch 28/100\n",
      "354/354 [==============================] - 0s 144us/sample - loss: 58.2926 - val_loss: 78.0126\n",
      "Epoch 29/100\n",
      "354/354 [==============================] - 0s 144us/sample - loss: 57.9681 - val_loss: 78.2489\n",
      "Epoch 30/100\n",
      "354/354 [==============================] - 0s 147us/sample - loss: 57.2671 - val_loss: 76.8690\n",
      "Epoch 31/100\n",
      "354/354 [==============================] - 0s 144us/sample - loss: 56.7619 - val_loss: 77.6509\n",
      "Epoch 32/100\n",
      "354/354 [==============================] - 0s 147us/sample - loss: 56.4026 - val_loss: 76.2957\n",
      "Epoch 33/100\n",
      "354/354 [==============================] - 0s 138us/sample - loss: 59.0974 - val_loss: 75.7155\n",
      "Epoch 34/100\n",
      "354/354 [==============================] - 0s 181us/sample - loss: 55.9179 - val_loss: 75.6271\n",
      "Epoch 35/100\n",
      "354/354 [==============================] - 0s 147us/sample - loss: 55.2880 - val_loss: 75.0512\n",
      "Epoch 36/100\n",
      "354/354 [==============================] - 0s 150us/sample - loss: 55.0279 - val_loss: 74.1602\n",
      "Epoch 37/100\n",
      "354/354 [==============================] - 0s 153us/sample - loss: 54.8535 - val_loss: 73.9981\n",
      "Epoch 38/100\n",
      "354/354 [==============================] - 0s 138us/sample - loss: 54.2273 - val_loss: 74.4914\n",
      "Epoch 39/100\n",
      "354/354 [==============================] - 0s 153us/sample - loss: 53.9573 - val_loss: 74.1240\n",
      "Epoch 40/100\n",
      "354/354 [==============================] - 0s 138us/sample - loss: 53.3552 - val_loss: 72.4842\n",
      "Epoch 41/100\n",
      "354/354 [==============================] - 0s 150us/sample - loss: 56.9256 - val_loss: 71.4814\n",
      "Epoch 42/100\n",
      "354/354 [==============================] - 0s 144us/sample - loss: 54.1147 - val_loss: 72.4525\n",
      "Epoch 43/100\n",
      "354/354 [==============================] - 0s 147us/sample - loss: 52.7232 - val_loss: 70.4569\n",
      "Epoch 44/100\n",
      "354/354 [==============================] - 0s 155us/sample - loss: 52.1368 - val_loss: 71.3535\n",
      "Epoch 45/100\n",
      "354/354 [==============================] - 0s 141us/sample - loss: 53.0721 - val_loss: 70.1675\n",
      "Epoch 46/100\n",
      "354/354 [==============================] - 0s 150us/sample - loss: 51.1636 - val_loss: 69.8415\n",
      "Epoch 47/100\n",
      "354/354 [==============================] - 0s 147us/sample - loss: 50.8933 - val_loss: 69.2915\n",
      "Epoch 48/100\n",
      "354/354 [==============================] - 0s 147us/sample - loss: 51.4268 - val_loss: 68.6952\n",
      "Epoch 49/100\n",
      "354/354 [==============================] - 0s 144us/sample - loss: 50.3122 - val_loss: 68.9238\n",
      "Epoch 50/100\n",
      "354/354 [==============================] - 0s 155us/sample - loss: 50.7825 - val_loss: 69.5027\n",
      "Epoch 51/100\n",
      "354/354 [==============================] - 0s 138us/sample - loss: 49.6602 - val_loss: 67.9757\n",
      "Epoch 52/100\n",
      "354/354 [==============================] - 0s 155us/sample - loss: 48.7350 - val_loss: 67.2099\n",
      "Epoch 53/100\n",
      "354/354 [==============================] - 0s 138us/sample - loss: 48.4381 - val_loss: 66.2959\n",
      "Epoch 54/100\n",
      "354/354 [==============================] - 0s 150us/sample - loss: 48.6353 - val_loss: 65.7946\n",
      "Epoch 55/100\n",
      "354/354 [==============================] - 0s 144us/sample - loss: 47.7190 - val_loss: 66.5340\n",
      "Epoch 56/100\n",
      "354/354 [==============================] - 0s 127us/sample - loss: 49.9081 - val_loss: 66.2149\n",
      "Epoch 57/100\n",
      "354/354 [==============================] - 0s 172us/sample - loss: 55.1070 - val_loss: 67.5111\n",
      "Epoch 58/100\n",
      "354/354 [==============================] - 0s 150us/sample - loss: 48.9740 - val_loss: 63.8080\n",
      "Epoch 59/100\n",
      "354/354 [==============================] - 0s 150us/sample - loss: 48.5910 - val_loss: 62.4282\n",
      "Epoch 60/100\n",
      "354/354 [==============================] - 0s 158us/sample - loss: 47.4231 - val_loss: 62.2047\n",
      "Epoch 61/100\n",
      "354/354 [==============================] - 0s 158us/sample - loss: 45.4588 - val_loss: 61.9068\n",
      "Epoch 62/100\n",
      "354/354 [==============================] - 0s 164us/sample - loss: 45.5658 - val_loss: 61.1519\n",
      "Epoch 63/100\n",
      "354/354 [==============================] - 0s 147us/sample - loss: 45.0546 - val_loss: 61.5733\n",
      "Epoch 64/100\n",
      "354/354 [==============================] - 0s 167us/sample - loss: 46.3405 - val_loss: 59.9349\n",
      "Epoch 65/100\n",
      "354/354 [==============================] - 0s 141us/sample - loss: 44.3053 - val_loss: 59.8238\n",
      "Epoch 66/100\n",
      "354/354 [==============================] - 0s 158us/sample - loss: 43.4649 - val_loss: 60.0025\n",
      "Epoch 67/100\n",
      "354/354 [==============================] - 0s 138us/sample - loss: 43.9159 - val_loss: 59.7941\n",
      "Epoch 68/100\n",
      "354/354 [==============================] - 0s 150us/sample - loss: 43.1995 - val_loss: 59.4090\n",
      "Epoch 69/100\n",
      "354/354 [==============================] - 0s 144us/sample - loss: 42.3775 - val_loss: 57.8114\n",
      "Epoch 70/100\n",
      "354/354 [==============================] - 0s 158us/sample - loss: 41.4688 - val_loss: 56.6561\n",
      "Epoch 71/100\n",
      "354/354 [==============================] - 0s 144us/sample - loss: 41.7678 - val_loss: 55.8272\n",
      "Epoch 72/100\n",
      "354/354 [==============================] - 0s 130us/sample - loss: 41.0581 - val_loss: 57.2680\n",
      "Epoch 73/100\n",
      "354/354 [==============================] - 0s 141us/sample - loss: 43.0518 - val_loss: 54.9151\n",
      "Epoch 74/100\n",
      "354/354 [==============================] - 0s 136us/sample - loss: 41.7391 - val_loss: 56.3759\n",
      "Epoch 75/100\n",
      "354/354 [==============================] - 0s 155us/sample - loss: 40.4561 - val_loss: 55.7890\n",
      "Epoch 76/100\n"
     ]
    },
    {
     "name": "stdout",
     "output_type": "stream",
     "text": [
      "354/354 [==============================] - 0s 133us/sample - loss: 41.1279 - val_loss: 53.2238\n",
      "Epoch 77/100\n",
      "354/354 [==============================] - 0s 141us/sample - loss: 40.6631 - val_loss: 56.7311\n",
      "Epoch 78/100\n",
      "354/354 [==============================] - 0s 136us/sample - loss: 40.0742 - val_loss: 52.6280\n",
      "Epoch 79/100\n",
      "354/354 [==============================] - 0s 161us/sample - loss: 40.8577 - val_loss: 51.4823\n",
      "Epoch 80/100\n",
      "354/354 [==============================] - 0s 141us/sample - loss: 38.7156 - val_loss: 50.5385\n",
      "Epoch 81/100\n",
      "354/354 [==============================] - 0s 130us/sample - loss: 37.8518 - val_loss: 50.9381\n",
      "Epoch 82/100\n",
      "354/354 [==============================] - 0s 124us/sample - loss: 37.5016 - val_loss: 50.4272\n",
      "Epoch 83/100\n",
      "354/354 [==============================] - 0s 141us/sample - loss: 37.1018 - val_loss: 49.2685\n",
      "Epoch 84/100\n",
      "354/354 [==============================] - 0s 141us/sample - loss: 37.9393 - val_loss: 55.9424\n",
      "Epoch 85/100\n",
      "354/354 [==============================] - 0s 153us/sample - loss: 39.0774 - val_loss: 54.2503\n",
      "Epoch 86/100\n",
      "354/354 [==============================] - 0s 121us/sample - loss: 39.5907 - val_loss: 48.0854\n",
      "Epoch 87/100\n",
      "354/354 [==============================] - 0s 138us/sample - loss: 35.0696 - val_loss: 48.0913\n",
      "Epoch 88/100\n",
      "354/354 [==============================] - 0s 141us/sample - loss: 36.2263 - val_loss: 50.1876\n",
      "Epoch 89/100\n",
      "354/354 [==============================] - 0s 124us/sample - loss: 37.7068 - val_loss: 55.5034\n",
      "Epoch 90/100\n",
      "354/354 [==============================] - 0s 153us/sample - loss: 35.5794 - val_loss: 47.6823\n",
      "Epoch 91/100\n",
      "354/354 [==============================] - 0s 133us/sample - loss: 34.8320 - val_loss: 49.2803\n",
      "Epoch 92/100\n",
      "354/354 [==============================] - 0s 136us/sample - loss: 34.0288 - val_loss: 46.4964\n",
      "Epoch 93/100\n",
      "354/354 [==============================] - 0s 138us/sample - loss: 33.3339 - val_loss: 46.1939\n",
      "Epoch 94/100\n",
      "354/354 [==============================] - 0s 141us/sample - loss: 33.7472 - val_loss: 47.6889\n",
      "Epoch 95/100\n",
      "354/354 [==============================] - 0s 141us/sample - loss: 34.2965 - val_loss: 47.2492\n",
      "Epoch 96/100\n",
      "354/354 [==============================] - 0s 124us/sample - loss: 35.5747 - val_loss: 44.3832\n",
      "Epoch 97/100\n",
      "354/354 [==============================] - 0s 130us/sample - loss: 32.7240 - val_loss: 45.2533\n",
      "Epoch 98/100\n",
      "354/354 [==============================] - 0s 144us/sample - loss: 33.0798 - val_loss: 42.5184\n",
      "Epoch 99/100\n",
      "354/354 [==============================] - 0s 136us/sample - loss: 31.0816 - val_loss: 42.3457\n",
      "Epoch 100/100\n",
      "354/354 [==============================] - 0s 130us/sample - loss: 30.8215 - val_loss: 43.2854\n"
     ]
    }
   ],
   "source": [
    "history=model.fit(xtrain,ytrain,epochs=100,batch_size=32,validation_data=(xtest,ytest))"
   ]
  },
  {
   "cell_type": "code",
   "execution_count": 25,
   "metadata": {},
   "outputs": [],
   "source": [
    "def plot_learningCurve(history, epochs):\n",
    "    \n",
    "\n",
    "    # Plot training & validation accuracy\n",
    "    epoch_range = range(1, epochs+1)\n",
    "    '''plt.plot(epoch_range, history.history['accuracy'])\n",
    "    plt.plot(epoch_range, history.history['val_accuracy'])\n",
    "    plt.title('Model accuracy')\n",
    "    plt.ylabel('Accuracy')\n",
    "    plt.xlabel('Epoch')\n",
    "    plt.legend(['Train', 'Val'], loc='upper left')\n",
    "    plt.show()'''\n",
    "    \n",
    "    # Plot training & validation loss values\\n\",\n",
    "    plt.plot(epoch_range, history.history['loss'])\n",
    "    plt.plot(epoch_range, history.history['val_loss'])\n",
    "    plt.title('Model loss')\n",
    "    plt.ylabel('Loss')\n",
    "    plt.xlabel('Epoch')\n",
    "    plt.legend(['Train', 'Val'], loc='upper left')\n",
    "    plt.show()"
   ]
  },
  {
   "cell_type": "code",
   "execution_count": 26,
   "metadata": {},
   "outputs": [
    {
     "data": {
      "image/png": "[encoded data removed]",
      "text/plain": [
       "<Figure size 432x288 with 1 Axes>"
      ]
     },
     "metadata": {
      "needs_background": "light"
     },
     "output_type": "display_data"
    }
   ],
   "source": [
    "import matplotlib.pyplot as plt\n",
    "%matplotlib inline\n",
    "plot_learningCurve(history, 100)"
   ]
  },
  {
   "cell_type": "code",
   "execution_count": 88,
   "metadata": {},
   "outputs": [],
   "source": [
    "model=Sequential()\n",
    "model.add(Dense(128,activation='relu',input_dim=xtrain.shape[1]))\n",
    "\n",
    "\n",
    "\n",
    "\n",
    "model.add(Dense(1))"
   ]
  },
  {
   "cell_type": "code",
   "execution_count": 89,
   "metadata": {},
   "outputs": [
    {
     "name": "stdout",
     "output_type": "stream",
     "text": [
      "Model: \"sequential_17\"\n",
      "_________________________________________________________________\n",
      "Layer (type)                 Output Shape              Param #   \n",
      "=================================================================\n",
      "dense_44 (Dense)             (None, 128)               1792      \n",
      "_________________________________________________________________\n",
      "dense_45 (Dense)             (None, 1)                 129       \n",
      "=================================================================\n",
      "Total params: 1,921\n",
      "Trainable params: 1,921\n",
      "Non-trainable params: 0\n",
      "_________________________________________________________________\n"
     ]
    }
   ],
   "source": [
    "from tensorflow.keras.callbacks import EarlyStopping\n",
    "#model.compile(loss='mean_squared_error', optimizer='Rmsprop')\n",
    "model.compile(optimizer=\"adam\", loss=\"mean_squared_error\", metrics=['accuracy'])\n",
    "# enable early stopping based on mean_squared_error\n",
    "es=EarlyStopping(monitor=\"val_loss\", mode='auto',verbose=1,min_delta=.1,patience=5)\n",
    "model.summary()"
   ]
  },
  {
   "cell_type": "code",
   "execution_count": 90,
   "metadata": {},
   "outputs": [
    {
     "name": "stdout",
     "output_type": "stream",
     "text": [
      "Train on 354 samples, validate on 152 samples\n",
      "Epoch 1/400\n",
      "354/354 [==============================] - 1s 2ms/sample - loss: 148.9089 - accuracy: 0.0000e+00 - val_loss: 106.5250 - val_accuracy: 0.0000e+00\n",
      "Epoch 2/400\n",
      "354/354 [==============================] - 0s 172us/sample - loss: 76.7056 - accuracy: 0.0000e+00 - val_loss: 78.1748 - val_accuracy: 0.0000e+00\n",
      "Epoch 3/400\n",
      "354/354 [==============================] - 0s 138us/sample - loss: 54.0743 - accuracy: 0.0000e+00 - val_loss: 73.4549 - val_accuracy: 0.0000e+00\n",
      "Epoch 4/400\n",
      "354/354 [==============================] - 0s 141us/sample - loss: 54.6978 - accuracy: 0.0000e+00 - val_loss: 66.4427 - val_accuracy: 0.0000e+00\n",
      "Epoch 5/400\n",
      "354/354 [==============================] - 0s 141us/sample - loss: 48.1294 - accuracy: 0.0000e+00 - val_loss: 61.8242 - val_accuracy: 0.0000e+00\n",
      "Epoch 6/400\n",
      "354/354 [==============================] - 0s 138us/sample - loss: 44.8468 - accuracy: 0.0000e+00 - val_loss: 65.5200 - val_accuracy: 0.0000e+00\n",
      "Epoch 7/400\n",
      "354/354 [==============================] - 0s 164us/sample - loss: 43.7305 - accuracy: 0.0000e+00 - val_loss: 59.7849 - val_accuracy: 0.0000e+00\n",
      "Epoch 8/400\n",
      "354/354 [==============================] - 0s 150us/sample - loss: 41.7125 - accuracy: 0.0000e+00 - val_loss: 62.2224 - val_accuracy: 0.0000e+00\n",
      "Epoch 9/400\n",
      "354/354 [==============================] - 0s 144us/sample - loss: 41.5151 - accuracy: 0.0000e+00 - val_loss: 60.7848 - val_accuracy: 0.0000e+00\n",
      "Epoch 10/400\n",
      "354/354 [==============================] - 0s 158us/sample - loss: 40.9846 - accuracy: 0.0000e+00 - val_loss: 59.5847 - val_accuracy: 0.0000e+00\n",
      "Epoch 11/400\n",
      "354/354 [==============================] - 0s 141us/sample - loss: 39.3105 - accuracy: 0.0000e+00 - val_loss: 53.0795 - val_accuracy: 0.0000e+00\n",
      "Epoch 12/400\n",
      "354/354 [==============================] - 0s 144us/sample - loss: 36.6408 - accuracy: 0.0000e+00 - val_loss: 52.2249 - val_accuracy: 0.0000e+00\n",
      "Epoch 13/400\n",
      "354/354 [==============================] - 0s 150us/sample - loss: 36.2299 - accuracy: 0.0000e+00 - val_loss: 52.1383 - val_accuracy: 0.0000e+00\n",
      "Epoch 14/400\n",
      "354/354 [==============================] - 0s 170us/sample - loss: 35.6681 - accuracy: 0.0000e+00 - val_loss: 61.5454 - val_accuracy: 0.0000e+00\n",
      "Epoch 15/400\n",
      "354/354 [==============================] - 0s 147us/sample - loss: 40.7222 - accuracy: 0.0000e+00 - val_loss: 81.6810 - val_accuracy: 0.0000e+00\n",
      "Epoch 16/400\n",
      "354/354 [==============================] - 0s 147us/sample - loss: 40.4228 - accuracy: 0.0000e+00 - val_loss: 49.9827 - val_accuracy: 0.0000e+00\n",
      "Epoch 17/400\n",
      "354/354 [==============================] - 0s 203us/sample - loss: 33.5466 - accuracy: 0.0000e+00 - val_loss: 49.4412 - val_accuracy: 0.0000e+00\n",
      "Epoch 18/400\n",
      "354/354 [==============================] - 0s 161us/sample - loss: 33.9941 - accuracy: 0.0000e+00 - val_loss: 56.1144 - val_accuracy: 0.0000e+00\n",
      "Epoch 19/400\n",
      "354/354 [==============================] - 0s 178us/sample - loss: 34.8248 - accuracy: 0.0000e+00 - val_loss: 45.7918 - val_accuracy: 0.0000e+00\n",
      "Epoch 20/400\n",
      "354/354 [==============================] - 0s 158us/sample - loss: 34.3407 - accuracy: 0.0000e+00 - val_loss: 46.0579 - val_accuracy: 0.0000e+00\n",
      "Epoch 21/400\n",
      "354/354 [==============================] - 0s 155us/sample - loss: 31.9136 - accuracy: 0.0000e+00 - val_loss: 44.9718 - val_accuracy: 0.0000e+00\n",
      "Epoch 22/400\n",
      "354/354 [==============================] - 0s 201us/sample - loss: 33.3977 - accuracy: 0.0000e+00 - val_loss: 61.3285 - val_accuracy: 0.0000e+00\n",
      "Epoch 23/400\n",
      "354/354 [==============================] - 0s 158us/sample - loss: 40.0046 - accuracy: 0.0000e+00 - val_loss: 44.5062 - val_accuracy: 0.0000e+00\n",
      "Epoch 24/400\n",
      "354/354 [==============================] - 0s 161us/sample - loss: 35.2536 - accuracy: 0.0000e+00 - val_loss: 43.8721 - val_accuracy: 0.0000e+00\n",
      "Epoch 25/400\n",
      "354/354 [==============================] - 0s 164us/sample - loss: 35.6925 - accuracy: 0.0000e+00 - val_loss: 44.1148 - val_accuracy: 0.0000e+00\n",
      "Epoch 26/400\n",
      "354/354 [==============================] - 0s 178us/sample - loss: 30.8779 - accuracy: 0.0000e+00 - val_loss: 46.1045 - val_accuracy: 0.0000e+00\n",
      "Epoch 27/400\n",
      "354/354 [==============================] - 0s 153us/sample - loss: 33.6748 - accuracy: 0.0000e+00 - val_loss: 43.2258 - val_accuracy: 0.0000e+00\n",
      "Epoch 28/400\n",
      "354/354 [==============================] - 0s 192us/sample - loss: 30.1212 - accuracy: 0.0000e+00 - val_loss: 42.8352 - val_accuracy: 0.0000e+00\n",
      "Epoch 29/400\n",
      "354/354 [==============================] - 0s 192us/sample - loss: 29.8675 - accuracy: 0.0000e+00 - val_loss: 54.8186 - val_accuracy: 0.0000e+00\n",
      "Epoch 30/400\n",
      "354/354 [==============================] - 0s 158us/sample - loss: 37.1078 - accuracy: 0.0000e+00 - val_loss: 41.9562 - val_accuracy: 0.0000e+00\n",
      "Epoch 31/400\n",
      "354/354 [==============================] - 0s 198us/sample - loss: 33.1511 - accuracy: 0.0000e+00 - val_loss: 46.8893 - val_accuracy: 0.0000e+00\n",
      "Epoch 32/400\n",
      "354/354 [==============================] - 0s 147us/sample - loss: 31.6412 - accuracy: 0.0000e+00 - val_loss: 40.6524 - val_accuracy: 0.0000e+00\n",
      "Epoch 33/400\n",
      "354/354 [==============================] - 0s 195us/sample - loss: 30.7227 - accuracy: 0.0000e+00 - val_loss: 65.3180 - val_accuracy: 0.0000e+00\n",
      "Epoch 34/400\n",
      "354/354 [==============================] - 0s 178us/sample - loss: 41.2247 - accuracy: 0.0000e+00 - val_loss: 43.6408 - val_accuracy: 0.0000e+00\n",
      "Epoch 35/400\n",
      "354/354 [==============================] - 0s 195us/sample - loss: 34.6065 - accuracy: 0.0000e+00 - val_loss: 40.0226 - val_accuracy: 0.0000e+00\n",
      "Epoch 36/400\n",
      "354/354 [==============================] - 0s 170us/sample - loss: 33.1185 - accuracy: 0.0000e+00 - val_loss: 50.1762 - val_accuracy: 0.0000e+00\n",
      "Epoch 37/400\n",
      "354/354 [==============================] - 0s 268us/sample - loss: 39.9962 - accuracy: 0.0000e+00 - val_loss: 49.9914 - val_accuracy: 0.0000e+00\n",
      "Epoch 38/400\n",
      "354/354 [==============================] - 0s 189us/sample - loss: 30.1754 - accuracy: 0.0000e+00 - val_loss: 40.3774 - val_accuracy: 0.0000e+00\n",
      "Epoch 39/400\n",
      "354/354 [==============================] - 0s 189us/sample - loss: 27.7250 - accuracy: 0.0000e+00 - val_loss: 42.2457 - val_accuracy: 0.0000e+00\n",
      "Epoch 40/400\n",
      "354/354 [==============================] - 0s 192us/sample - loss: 31.0810 - accuracy: 0.0000e+00 - val_loss: 42.7920 - val_accuracy: 0.0000e+00\n",
      "Epoch 00040: early stopping\n"
     ]
    }
   ],
   "source": [
    "history=model.fit(xtrain,ytrain,epochs=400,batch_size=32,validation_data=(xtest,ytest),callbacks=[es])"
   ]
  },
  {
   "cell_type": "code",
   "execution_count": 64,
   "metadata": {},
   "outputs": [],
   "source": [
    "def plot_learningCurve(history, epochs):\n",
    "    \n",
    "\n",
    "    # Plot training & validation accuracy\n",
    "    epoch_range = range(1, epochs+1)\n",
    "    '''plt.plot(epoch_range, history.history['accuracy'])\n",
    "    plt.plot(epoch_range, history.history['val_accuracy'])\n",
    "    plt.title('Model accuracy')\n",
    "    plt.ylabel('Accuracy')\n",
    "    plt.xlabel('Epoch')\n",
    "    plt.legend(['Train', 'Val'], loc='upper left')\n",
    "    plt.show()'''\n",
    "    \n",
    "    # Plot training & validation loss values\\n\",\n",
    "    plt.plot(epoch_range, history.history['loss'])\n",
    "    plt.plot(epoch_range, history.history['val_loss'])\n",
    "    plt.title('Model loss')\n",
    "    plt.ylabel('Loss')\n",
    "    plt.xlabel('Epoch')\n",
    "    plt.legend(['Train', 'Val'], loc='upper left')\n",
    "    plt.show()"
   ]
  },
  {
   "cell_type": "code",
   "execution_count": 65,
   "metadata": {},
   "outputs": [
    {
     "data": {
      "image/png": "[encoded data removed]",
      "text/plain": [
       "<Figure size 432x288 with 1 Axes>"
      ]
     },
     "metadata": {
      "needs_background": "light"
     },
     "output_type": "display_data"
    }
   ],
   "source": [
    "import matplotlib.pyplot as plt\n",
    "%matplotlib inline\n",
    "plot_learningCurve(history, 200)"
   ]
  },
  {
   "cell_type": "code",
   "execution_count": null,
   "metadata": {},
   "outputs": [],
   "source": []
  }
 ],
 "metadata": {
  "kernelspec": {
   "display_name": "Python 3",
   "language": "python",
   "name": "python3"
  },
  "language_info": {
   "codemirror_mode": {
    "name": "ipython",
    "version": 3
   },
   "file_extension": ".py",
   "mimetype": "text/x-python",
   "name": "python",
   "nbconvert_exporter": "python",
   "pygments_lexer": "ipython3",
   "version": "3.7.0"
  }
 },
 "nbformat": 4,
 "nbformat_minor": 2
}
